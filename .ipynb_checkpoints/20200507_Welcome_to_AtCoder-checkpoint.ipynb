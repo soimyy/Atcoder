{
 "cells": [
  {
   "cell_type": "markdown",
   "metadata": {},
   "source": [
    "# 問題文"
   ]
  },
  {
   "cell_type": "markdown",
   "metadata": {},
   "source": [
    "問題文\n",
    "高橋君はデータの加工が行いたいです。\n",
    "\n",
    "整数 a,b,cと、文字列 s が与えられます。  \n",
    "a+b+c の計算結果と、文字列 s を並べて表示しなさい。\n",
    "\n",
    "制約  \n",
    "1≤a,b,c≤1,000  \n",
    "1\\leq|s|\\leq 100  \n",
    "入力  \n",
    "入力は以下の形式で与えられる。  \n",
    "\n",
    "a  \n",
    "b c  \n",
    "s  \n",
    "出力  \n",
    "a+b+c と s を空白区切りで 1 行に出力せよ。  \n",
    "\n",
    "入力例 1  \n",
    "1  \n",
    "2 3  \n",
    "test  \n",
    "\n",
    "出力例 1  \n",
    "6 test  \n",
    "1+2+3 は 6 なので、上記のように出力します。  \n",
    "\n",
    "\n",
    "入力例 2  \n",
    "72  \n",
    "128 256  \n",
    "myonmyon  \n",
    " \n",
    "出力例 2  \n",
    "456 myonmyon  \n",
    "72+128+256 は 456 なので、上記のように出力します。  \n"
   ]
  },
  {
   "cell_type": "markdown",
   "metadata": {},
   "source": [
    "# 解答"
   ]
  },
  {
   "cell_type": "code",
   "execution_count": 26,
   "metadata": {},
   "outputs": [],
   "source": [
    "import numpy as np\n",
    "\n",
    "# 入力を3つ受けつける\n",
    "args1 = input()\n",
    "args2 = input()\n",
    "args3 = input()\n",
    "\n",
    "number = int(args1)  + np.sum(np.array([int(char) for char in args2.split(' ')]))\n",
    "\n",
    "print('{0} {1}'.format(number, args3))"
   ]
  },
  {
   "cell_type": "markdown",
   "metadata": {},
   "source": [
    "# 解答例"
   ]
  },
  {
   "cell_type": "code",
   "execution_count": 65,
   "metadata": {},
   "outputs": [
    {
     "name": "stdout",
     "output_type": "stream",
     "text": [
      "1\n",
      "2 4\n",
      "vamerpotbae\n",
      "7 vamerpotbae\n"
     ]
    }
   ],
   "source": [
    "a = int(input())\n",
    "b, c = map(int, input().split())\n",
    "s = input()\n",
    "print('{} {}'.format(a+b+c, s))"
   ]
  }
 ],
 "metadata": {
  "kernelspec": {
   "display_name": "Python 3",
   "language": "python",
   "name": "python3"
  },
  "language_info": {
   "codemirror_mode": {
    "name": "ipython",
    "version": 3
   },
   "file_extension": ".py",
   "mimetype": "text/x-python",
   "name": "python",
   "nbconvert_exporter": "python",
   "pygments_lexer": "ipython3",
   "version": "3.7.2"
  },
  "latex_envs": {
   "LaTeX_envs_menu_present": true,
   "autoclose": false,
   "autocomplete": true,
   "bibliofile": "biblio.bib",
   "cite_by": "apalike",
   "current_citInitial": 1,
   "eqLabelWithNumbers": true,
   "eqNumInitial": 1,
   "hotkeys": {
    "equation": "Ctrl-E",
    "itemize": "Ctrl-I"
   },
   "labels_anchors": false,
   "latex_user_defs": false,
   "report_style_numbering": false,
   "user_envs_cfg": false
  },
  "toc": {
   "base_numbering": 1,
   "nav_menu": {},
   "number_sections": true,
   "sideBar": true,
   "skip_h1_title": false,
   "title_cell": "Table of Contents",
   "title_sidebar": "Contents",
   "toc_cell": false,
   "toc_position": {},
   "toc_section_display": true,
   "toc_window_display": true
  }
 },
 "nbformat": 4,
 "nbformat_minor": 2
}
